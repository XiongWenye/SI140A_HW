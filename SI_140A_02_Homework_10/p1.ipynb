{
 "cells": [
  {
   "cell_type": "markdown",
   "metadata": {},
   "source": [
    "# Import Required Libraries\n",
    "Import the necessary libraries, including NumPy and Matplotlib."
   ]
  },
  {
   "cell_type": "code",
   "execution_count": 1,
   "metadata": {},
   "outputs": [],
   "source": [
    "# Import Required Libraries\n",
    "import numpy as np\n",
    "import matplotlib.pyplot as plt"
   ]
  },
  {
   "cell_type": "markdown",
   "metadata": {},
   "source": [
    "# Define the Random Variable N\n",
    "Define the random variable N based on the given condition."
   ]
  },
  {
   "cell_type": "code",
   "execution_count": 2,
   "metadata": {},
   "outputs": [
    {
     "data": {
      "text/plain": [
       "[1, 0, 0, 0, 0, 0, 2, 0, 2, 1]"
      ]
     },
     "execution_count": 2,
     "metadata": {},
     "output_type": "execute_result"
    }
   ],
   "source": [
    "# Define the Random Variable N\n",
    "\n",
    "# Function to generate the random variable N\n",
    "def generate_N():\n",
    "    product = 1\n",
    "    n = 0\n",
    "    while product >= np.exp(-1):\n",
    "        product *= np.random.uniform(0, 1)\n",
    "        n += 1\n",
    "    return n - 1\n",
    "\n",
    "# Generate 5000 samples of N\n",
    "samples = [generate_N() for _ in range(5000)]\n",
    "\n",
    "# Display the first 10 samples as a sanity check\n",
    "samples[:10]"
   ]
  },
  {
   "cell_type": "markdown",
   "metadata": {},
   "source": [
    "# Estimate E(N)\n",
    "Estimate the expected value of N by calculating the sample mean of the generated samples."
   ]
  },
  {
   "cell_type": "code",
   "execution_count": 3,
   "metadata": {},
   "outputs": [
    {
     "data": {
      "text/plain": [
       "0.9914"
      ]
     },
     "execution_count": 3,
     "metadata": {},
     "output_type": "execute_result"
    }
   ],
   "source": [
    "# Estimate E(N)\n",
    "\n",
    "# Calculate the sample mean of the generated samples\n",
    "E_N = np.mean(samples)\n",
    "\n",
    "# Display the estimated expected value of N\n",
    "E_N"
   ]
  },
  {
   "cell_type": "markdown",
   "metadata": {},
   "source": [
    "# Estimate Var(N)\n",
    "Estimate the variance of N by calculating the sample variance of the generated samples."
   ]
  },
  {
   "cell_type": "code",
   "execution_count": 4,
   "metadata": {},
   "outputs": [
    {
     "data": {
      "text/plain": [
       "1.01492604"
      ]
     },
     "execution_count": 4,
     "metadata": {},
     "output_type": "execute_result"
    }
   ],
   "source": [
    "# Estimate Var(N)\n",
    "\n",
    "# Calculate the sample variance of the generated samples\n",
    "Var_N = np.var(samples)\n",
    "\n",
    "# Display the estimated variance of N\n",
    "Var_N"
   ]
  },
  {
   "cell_type": "markdown",
   "metadata": {},
   "source": [
    "# Estimate P(N=i) for i=0,1,2,3\n",
    "Estimate the probabilities P(N=i) for i=0,1,2,3 using the generated samples."
   ]
  },
  {
   "cell_type": "code",
   "execution_count": 5,
   "metadata": {},
   "outputs": [
    {
     "data": {
      "text/plain": [
       "{0: 0.3744, 1: 0.367, 2: 0.1764, 3: 0.0616}"
      ]
     },
     "execution_count": 5,
     "metadata": {},
     "output_type": "execute_result"
    }
   ],
   "source": [
    "# Estimate P(N=i) for i=0,1,2,3\n",
    "\n",
    "# Calculate the probabilities P(N=i) for i=0,1,2,3\n",
    "probabilities = {i: np.mean(np.array(samples) == i) for i in range(0,4)}\n",
    "\n",
    "# Display the estimated probabilities\n",
    "probabilities"
   ]
  }
 ],
 "metadata": {
  "kernelspec": {
   "display_name": "py310",
   "language": "python",
   "name": "python3"
  },
  "language_info": {
   "codemirror_mode": {
    "name": "ipython",
    "version": 3
   },
   "file_extension": ".py",
   "mimetype": "text/x-python",
   "name": "python",
   "nbconvert_exporter": "python",
   "pygments_lexer": "ipython3",
   "version": "3.10.13"
  }
 },
 "nbformat": 4,
 "nbformat_minor": 2
}
