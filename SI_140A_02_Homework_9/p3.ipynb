{
 "cells": [
  {
   "cell_type": "code",
   "execution_count": 1,
   "metadata": {},
   "outputs": [
    {
     "name": "stdout",
     "output_type": "stream",
     "text": [
      "Estimated value of integral (a): 3.141926471058533\n",
      "Estimated value of integral (b): 7.6785972525332005\n",
      "Estimated probability of rare event (c): 0.0\n",
      "Estimated probability of rare event (c) using importance sampling: 0.0\n"
     ]
    }
   ],
   "source": [
    "import numpy as np\n",
    "import math\n",
    "from decimal import getcontext\n",
    "\n",
    "import scipy.stats as stats\n",
    "\n",
    "getcontext().prec = 20\n",
    "# Part (a)\n",
    "def monte_carlo_integration_a(n_samples=1000000):\n",
    "    samples = np.random.uniform(0, 1, n_samples)\n",
    "    integrand_values = 4 / (1 + samples**2)\n",
    "    integral_estimate = np.mean(integrand_values)\n",
    "    return integral_estimate\n",
    "\n",
    "# Part (b)\n",
    "def monte_carlo_integration_b(n_samples=1000000):\n",
    "    samples = np.random.uniform(0, 4, n_samples)\n",
    "    integrand_values = np.sqrt(samples + np.sqrt(samples + np.sqrt(samples + np.sqrt(samples))))\n",
    "    integral_estimate = 4 * np.mean(integrand_values)\n",
    "    return integral_estimate\n",
    "\n",
    "# Part (c) without using importance sampling\n",
    "def probability_of_rare_event_without(n_samples=1000000):\n",
    "    samples = np.random.normal(0, 1, n_samples)\n",
    "    rare_event_probability = np.mean(samples > 8)\n",
    "    return rare_event_probability\n",
    "\n",
    "# Part (c) using importance sampling\n",
    "def probability_of_rare_event_with(n_samples=10000000):\n",
    "    samples = np.random.normal(0, 1, n_samples)\n",
    "    rare_event_probability = 0\n",
    "    for i in range(n_samples):\n",
    "        if samples[i] > 8:\n",
    "            rare_event_probability += samples[i] * math.exp(-8*samples[i] + 32)\n",
    "    rare_event_probability /= n_samples\n",
    "    return rare_event_probability\n",
    "\n",
    "# Evaluate the integrations and probability\n",
    "integral_a = monte_carlo_integration_a()\n",
    "integral_b = monte_carlo_integration_b()\n",
    "rare_event_prob_without = probability_of_rare_event_without()\n",
    "rare_event_prob_with = probability_of_rare_event_with()\n",
    "\n",
    "print(f\"Estimated value of integral (a): {integral_a}\")\n",
    "print(f\"Estimated value of integral (b): {integral_b}\")\n",
    "print(f\"Estimated probability of rare event (c): {rare_event_prob_without}\")\n",
    "print(f\"Estimated probability of rare event (c) using importance sampling: {rare_event_prob_with}\")"
   ]
  }
 ],
 "metadata": {
  "kernelspec": {
   "display_name": "py310",
   "language": "python",
   "name": "python3"
  },
  "language_info": {
   "codemirror_mode": {
    "name": "ipython",
    "version": 3
   },
   "file_extension": ".py",
   "mimetype": "text/x-python",
   "name": "python",
   "nbconvert_exporter": "python",
   "pygments_lexer": "ipython3",
   "version": "3.10.13"
  }
 },
 "nbformat": 4,
 "nbformat_minor": 2
}
