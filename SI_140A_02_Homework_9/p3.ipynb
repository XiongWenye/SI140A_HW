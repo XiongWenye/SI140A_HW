{
 "cells": [
  {
   "cell_type": "code",
   "execution_count": 7,
   "metadata": {},
   "outputs": [
    {
     "name": "stdout",
     "output_type": "stream",
     "text": [
      "Monte Carlo estimate result (a): 3.141655418534438\n",
      "Theoretical value: 3.141592653589793\n",
      "Monte Carlo estimate result (b): 7.67652499380115\n",
      "Importance sampling Monte Carlo estimate (c): 6.211953979014197e-16\n",
      "Theoretical value: 6.661338147750939e-16\n"
     ]
    }
   ],
   "source": [
    "import numpy as np\n",
    "import math\n",
    "from decimal import getcontext\n",
    "\n",
    "from scipy.stats import norm\n",
    "\n",
    "N = 10_000_00\n",
    "x = np.random.rand(N)\n",
    "fx = 4 / (1 + x**2)\n",
    "estimate_a = np.mean(fx)\n",
    "\n",
    "print(\"Monte Carlo estimate result (a):\", estimate_a)\n",
    "print(\"Theoretical value:\", np.pi)\n",
    "\n",
    "def integrand(x):\n",
    "  return np.sqrt(x + np.sqrt(x + np.sqrt(x + np.sqrt(x))))\n",
    "\n",
    "x = np.random.uniform(0, 4, N)\n",
    "fx = integrand(x)\n",
    "estimate_b = (4 - 0) * np.mean(fx)\n",
    "\n",
    "print(\"Monte Carlo estimate result (b):\", estimate_b)\n",
    "\n",
    "theoretical_c = 1 - norm.cdf(8)\n",
    "\n",
    "N = 100_0000\n",
    "mu = 8\n",
    "y_shifted = np.random.randn(N) + mu\n",
    "\n",
    "w = norm.pdf(y_shifted, 0, 1) / norm.pdf(y_shifted, 8, 1)\n",
    "\n",
    "I = (y_shifted > 8).astype(float)\n",
    "\n",
    "estimate_c = np.mean(I * w)\n",
    "print(\"Importance sampling Monte Carlo estimate (c):\", estimate_c)\n",
    "print(\"Theoretical value:\", theoretical_c)"
   ]
  }
 ],
 "metadata": {
  "kernelspec": {
   "display_name": "py310",
   "language": "python",
   "name": "python3"
  },
  "language_info": {
   "codemirror_mode": {
    "name": "ipython",
    "version": 3
   },
   "file_extension": ".py",
   "mimetype": "text/x-python",
   "name": "python",
   "nbconvert_exporter": "python",
   "pygments_lexer": "ipython3",
   "version": "3.10.13"
  }
 },
 "nbformat": 4,
 "nbformat_minor": 2
}
